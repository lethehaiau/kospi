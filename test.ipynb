{
 "cells": [
  {
   "cell_type": "code",
   "execution_count": 3,
   "metadata": {},
   "outputs": [],
   "source": [
    "import pandas as pd"
   ]
  },
  {
   "cell_type": "code",
   "execution_count": 5,
   "metadata": {},
   "outputs": [
    {
     "data": {
      "text/html": [
       "<div>\n",
       "<style scoped>\n",
       "    .dataframe tbody tr th:only-of-type {\n",
       "        vertical-align: middle;\n",
       "    }\n",
       "\n",
       "    .dataframe tbody tr th {\n",
       "        vertical-align: top;\n",
       "    }\n",
       "\n",
       "    .dataframe thead th {\n",
       "        text-align: right;\n",
       "    }\n",
       "</style>\n",
       "<table border=\"1\" class=\"dataframe\">\n",
       "  <thead>\n",
       "    <tr style=\"text-align: right;\">\n",
       "      <th></th>\n",
       "      <th>Date</th>\n",
       "      <th>Open</th>\n",
       "      <th>High</th>\n",
       "      <th>Low</th>\n",
       "      <th>Close</th>\n",
       "      <th>Adj Close</th>\n",
       "      <th>Volume</th>\n",
       "    </tr>\n",
       "  </thead>\n",
       "  <tbody>\n",
       "    <tr>\n",
       "      <th>0</th>\n",
       "      <td>2019-04-09</td>\n",
       "      <td>2212.320068</td>\n",
       "      <td>2221.620117</td>\n",
       "      <td>2203.540039</td>\n",
       "      <td>2213.560059</td>\n",
       "      <td>2213.560059</td>\n",
       "      <td>414800</td>\n",
       "    </tr>\n",
       "    <tr>\n",
       "      <th>1</th>\n",
       "      <td>2019-04-10</td>\n",
       "      <td>2206.199951</td>\n",
       "      <td>2225.020020</td>\n",
       "      <td>2203.820068</td>\n",
       "      <td>2224.389893</td>\n",
       "      <td>2224.389893</td>\n",
       "      <td>399700</td>\n",
       "    </tr>\n",
       "    <tr>\n",
       "      <th>2</th>\n",
       "      <td>2019-04-11</td>\n",
       "      <td>2227.689941</td>\n",
       "      <td>2230.409912</td>\n",
       "      <td>2217.179932</td>\n",
       "      <td>2224.439941</td>\n",
       "      <td>2224.439941</td>\n",
       "      <td>402000</td>\n",
       "    </tr>\n",
       "    <tr>\n",
       "      <th>3</th>\n",
       "      <td>2019-04-12</td>\n",
       "      <td>2221.100098</td>\n",
       "      <td>2233.449951</td>\n",
       "      <td>2212.879883</td>\n",
       "      <td>2233.449951</td>\n",
       "      <td>2233.449951</td>\n",
       "      <td>449600</td>\n",
       "    </tr>\n",
       "    <tr>\n",
       "      <th>4</th>\n",
       "      <td>2019-04-15</td>\n",
       "      <td>2242.310059</td>\n",
       "      <td>2251.219971</td>\n",
       "      <td>2240.290039</td>\n",
       "      <td>2242.879883</td>\n",
       "      <td>2242.879883</td>\n",
       "      <td>404200</td>\n",
       "    </tr>\n",
       "  </tbody>\n",
       "</table>\n",
       "</div>"
      ],
      "text/plain": [
       "        Date         Open         High          Low        Close    Adj Close  \\\n",
       "0 2019-04-09  2212.320068  2221.620117  2203.540039  2213.560059  2213.560059   \n",
       "1 2019-04-10  2206.199951  2225.020020  2203.820068  2224.389893  2224.389893   \n",
       "2 2019-04-11  2227.689941  2230.409912  2217.179932  2224.439941  2224.439941   \n",
       "3 2019-04-12  2221.100098  2233.449951  2212.879883  2233.449951  2233.449951   \n",
       "4 2019-04-15  2242.310059  2251.219971  2240.290039  2242.879883  2242.879883   \n",
       "\n",
       "   Volume  \n",
       "0  414800  \n",
       "1  399700  \n",
       "2  402000  \n",
       "3  449600  \n",
       "4  404200  "
      ]
     },
     "execution_count": 5,
     "metadata": {},
     "output_type": "execute_result"
    }
   ],
   "source": [
    "stock_prices = \"./^KS11.csv\"\n",
    "stock_data = pd.read_csv(stock_prices, parse_dates=[0])\n",
    "stock_data.head()"
   ]
  }
 ],
 "metadata": {
  "kernelspec": {
   "display_name": "Python 3",
   "language": "python",
   "name": "python3"
  },
  "language_info": {
   "codemirror_mode": {
    "name": "ipython",
    "version": 3
   },
   "file_extension": ".py",
   "mimetype": "text/x-python",
   "name": "python",
   "nbconvert_exporter": "python",
   "pygments_lexer": "ipython3",
   "version": "3.7.3"
  }
 },
 "nbformat": 4,
 "nbformat_minor": 2
}
